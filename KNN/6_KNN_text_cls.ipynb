{
  "cells": [
    {
      "cell_type": "markdown",
      "metadata": {
        "id": "view-in-github",
        "colab_type": "text"
      },
      "source": [
        "<a href=\"https://colab.research.google.com/github/thq1995/AI_Learning/blob/main/KNN/6_KNN_text_cls.ipynb\" target=\"_parent\"><img src=\"https://colab.research.google.com/assets/colab-badge.svg\" alt=\"Open In Colab\"/></a>"
      ]
    },
    {
      "cell_type": "code",
      "execution_count": 106,
      "metadata": {
        "id": "Yo7SGb6izvqu"
      },
      "outputs": [],
      "source": [
        "# !pip install scikit-learn==1.3.0 numpy==1.25.2"
      ]
    },
    {
      "cell_type": "code",
      "execution_count": 107,
      "metadata": {
        "id": "df-M1wKhzvqx"
      },
      "outputs": [],
      "source": [
        "import sklearn\n",
        "from sklearn.neighbors import KNeighborsClassifier\n",
        "from sklearn.pipeline import Pipeline\n",
        "from sklearn.feature_extraction.text import CountVectorizer\n",
        "from sklearn.feature_extraction.text import TfidfTransformer\n",
        "import numpy as np"
      ]
    },
    {
      "cell_type": "code",
      "execution_count": 108,
      "metadata": {
        "id": "kcvxhKJgzvqx"
      },
      "outputs": [],
      "source": [
        "corpus = [\n",
        "    \"góp gió gặt bão\",\n",
        "    \"có làm mới có ăn\",\n",
        "    \"đất lành chim đậu\",\n",
        "    \"ăn cháo đá bát\",\n",
        "    \"gậy ông đập lưng ông\",\n",
        "    \"qua cầu rút ván\"\n",
        "]\n",
        "\n",
        "n_doc = len(corpus)\n",
        "\n",
        "labels = [1, 1, 1, 0, 0, 0] # 1: positive - 0: negative\n",
        "\n",
        "cate_2_label = {\n",
        "    \"positive\": 1,\n",
        "    \"negative\": 0\n",
        "}"
      ]
    },
    {
      "cell_type": "code",
      "execution_count": 109,
      "metadata": {
        "id": "tlqjnHkwxI76"
      },
      "outputs": [],
      "source": [
        "def label_2_cate(labels):\n",
        "    key_list = list(cate_2_label.keys())\n",
        "    val_list = list(cate_2_label.values())\n",
        "\n",
        "    position = [val_list.index(label) for label in labels]\n",
        "    return np.array(key_list)[position]"
      ]
    },
    {
      "cell_type": "code",
      "execution_count": 110,
      "metadata": {
        "id": "gKQtppP3zvqx"
      },
      "outputs": [],
      "source": [
        "X = np.array(corpus)\n",
        "y = np.array(labels)"
      ]
    },
    {
      "cell_type": "markdown",
      "metadata": {
        "id": "A-XU6Ja4zvqy"
      },
      "source": [
        "## Convert text to vector by using TF-IDF transform"
      ]
    },
    {
      "cell_type": "code",
      "execution_count": 111,
      "metadata": {
        "id": "fpIaoIjU09Ht"
      },
      "outputs": [],
      "source": [
        "def caculate_tfidf(X_vectorized):\n",
        "    tf = np.log(X_vectorized + 1)\n",
        "    df = np.sum(X_vectorized, axis= 0)\n",
        "    idf = np.log((n_doc+1)/(df+1)) + 1\n",
        "    tfidf = tf * idf\n",
        "\n",
        "    return idf, tf, tfidf"
      ]
    },
    {
      "cell_type": "code",
      "execution_count": 112,
      "metadata": {
        "id": "SR1DRgg1zvq0"
      },
      "outputs": [],
      "source": [
        "def compute_norm(tfidf_vec):\n",
        "    norm = np.linalg.norm(tfidf_vec, axis = 1)\n",
        "    n_doc = tfidf_vec.shape[0]\n",
        "    for i in range(n_doc):\n",
        "        tfidf_vec[i] /=  norm[i]"
      ]
    },
    {
      "cell_type": "code",
      "source": [
        "X"
      ],
      "metadata": {
        "colab": {
          "base_uri": "https://localhost:8080/"
        },
        "id": "NB-T4_eM0rW0",
        "outputId": "3bf390f5-3e4e-4ef6-901a-7b982217fb13"
      },
      "execution_count": 113,
      "outputs": [
        {
          "output_type": "execute_result",
          "data": {
            "text/plain": [
              "array(['góp gió gặt bão', 'có làm mới có ăn', 'đất lành chim đậu',\n",
              "       'ăn cháo đá bát', 'gậy ông đập lưng ông', 'qua cầu rút ván'],\n",
              "      dtype='<U20')"
            ]
          },
          "metadata": {},
          "execution_count": 113
        }
      ]
    },
    {
      "cell_type": "code",
      "execution_count": 114,
      "metadata": {
        "colab": {
          "base_uri": "https://localhost:8080/"
        },
        "id": "ZDdqvG1Vzvqz",
        "outputId": "d4c91c62-77b7-4dc9-d9fa-f0532b2a3323"
      },
      "outputs": [
        {
          "output_type": "stream",
          "name": "stdout",
          "text": [
            "Vocab:  ['bát' 'bão' 'chim' 'cháo' 'có' 'cầu' 'gió' 'góp' 'gậy' 'gặt' 'làm' 'lành'\n",
            " 'lưng' 'mới' 'qua' 'rút' 'ván' 'ông' 'ăn' 'đá' 'đất' 'đập' 'đậu']\n"
          ]
        }
      ],
      "source": [
        "vectorizer = CountVectorizer()\n",
        "X_vectorized = vectorizer.fit_transform(X).toarray()\n",
        "print(\"Vocab: \", vectorizer.get_feature_names_out())"
      ]
    },
    {
      "cell_type": "code",
      "source": [
        "X_vectorized"
      ],
      "metadata": {
        "colab": {
          "base_uri": "https://localhost:8080/"
        },
        "id": "7Jvpwo2R1BoB",
        "outputId": "c1ae8540-5e35-4c4f-a9ec-96ee33d5761f"
      },
      "execution_count": 115,
      "outputs": [
        {
          "output_type": "execute_result",
          "data": {
            "text/plain": [
              "array([[0, 1, 0, 0, 0, 0, 1, 1, 0, 1, 0, 0, 0, 0, 0, 0, 0, 0, 0, 0, 0, 0,\n",
              "        0],\n",
              "       [0, 0, 0, 0, 2, 0, 0, 0, 0, 0, 1, 0, 0, 1, 0, 0, 0, 0, 1, 0, 0, 0,\n",
              "        0],\n",
              "       [0, 0, 1, 0, 0, 0, 0, 0, 0, 0, 0, 1, 0, 0, 0, 0, 0, 0, 0, 0, 1, 0,\n",
              "        1],\n",
              "       [1, 0, 0, 1, 0, 0, 0, 0, 0, 0, 0, 0, 0, 0, 0, 0, 0, 0, 1, 1, 0, 0,\n",
              "        0],\n",
              "       [0, 0, 0, 0, 0, 0, 0, 0, 1, 0, 0, 0, 1, 0, 0, 0, 0, 2, 0, 0, 0, 1,\n",
              "        0],\n",
              "       [0, 0, 0, 0, 0, 1, 0, 0, 0, 0, 0, 0, 0, 0, 1, 1, 1, 0, 0, 0, 0, 0,\n",
              "        0]])"
            ]
          },
          "metadata": {},
          "execution_count": 115
        }
      ]
    },
    {
      "cell_type": "code",
      "execution_count": 116,
      "metadata": {
        "id": "Dsnm5T63zvqz"
      },
      "outputs": [],
      "source": [
        "X_idf, x_tf, X_tfidf = caculate_tfidf(X_vectorized)"
      ]
    },
    {
      "cell_type": "markdown",
      "metadata": {
        "id": "MZlYY0rWzvq0"
      },
      "source": [
        "### Normlize TF-IDF values by L2 norm"
      ]
    },
    {
      "cell_type": "code",
      "execution_count": 117,
      "metadata": {
        "id": "0yFc_Wd5zvq0"
      },
      "outputs": [],
      "source": [
        "compute_norm(X_tfidf)"
      ]
    },
    {
      "cell_type": "markdown",
      "metadata": {
        "id": "KomFo23UNi5s"
      },
      "source": [
        "# Train model KNN with 1 neighbor"
      ]
    },
    {
      "cell_type": "code",
      "execution_count": 118,
      "metadata": {
        "colab": {
          "base_uri": "https://localhost:8080/"
        },
        "id": "iVluNGEyzvq0",
        "outputId": "8dce8183-05d5-4f87-baaf-6629031941c1"
      },
      "outputs": [
        {
          "output_type": "stream",
          "name": "stdout",
          "text": [
            "[1 0 1 1 1 1]\n"
          ]
        }
      ],
      "source": [
        "knn_cls = KNeighborsClassifier(n_neighbors=3)\n",
        "knn_cls.fit(X_tfidf, y)\n",
        "preds = knn_cls.predict(X_tfidf)\n",
        "print(preds)"
      ]
    },
    {
      "cell_type": "markdown",
      "metadata": {
        "id": "Qn1c_GCwzvq1"
      },
      "source": [
        "## Using pipeline of sklearn"
      ]
    },
    {
      "cell_type": "code",
      "execution_count": 119,
      "metadata": {
        "colab": {
          "base_uri": "https://localhost:8080/"
        },
        "id": "n7sKMV0Lzvq1",
        "outputId": "26f36605-0f6b-487c-a1cf-d1046f13aeb3"
      },
      "outputs": [
        {
          "output_type": "stream",
          "name": "stdout",
          "text": [
            "[1 0 1 0 1 0]\n"
          ]
        }
      ],
      "source": [
        "text_clf_model = Pipeline([('vect', CountVectorizer()),\n",
        "                            ('tfidf', TfidfTransformer()),\n",
        "                            ('clf', KNeighborsClassifier(n_neighbors=3)),\n",
        "                        ])\n",
        "\n",
        "text_clf_model.fit(X, y)\n",
        "\n",
        "preds = text_clf_model.predict(X)\n",
        "print(preds)"
      ]
    },
    {
      "cell_type": "markdown",
      "metadata": {
        "id": "pLewsqLwzvq1"
      },
      "source": [
        "### Inference"
      ]
    },
    {
      "cell_type": "code",
      "execution_count": 120,
      "metadata": {
        "id": "zTIdv8KUzvq1"
      },
      "outputs": [],
      "source": [
        "test_text = np.array([\"không làm cạp đất mà ăn\"])\n",
        "test_vec = vectorizer.transform(test_text).toarray()"
      ]
    },
    {
      "cell_type": "code",
      "execution_count": 121,
      "metadata": {
        "id": "ieRkpUOqzvq1"
      },
      "outputs": [],
      "source": [
        "test_tf = np.log(test_vec + 1)\n",
        "test_tfidf = test_tf * X_idf"
      ]
    },
    {
      "cell_type": "code",
      "execution_count": 122,
      "metadata": {
        "id": "8zlwdCaz9unK"
      },
      "outputs": [],
      "source": [
        "compute_norm(test_tfidf)"
      ]
    },
    {
      "cell_type": "code",
      "execution_count": 123,
      "metadata": {
        "colab": {
          "base_uri": "https://localhost:8080/"
        },
        "id": "w8o2wkhMzvq2",
        "outputId": "dc6428d7-4efd-4785-fafb-2fdfefe18677"
      },
      "outputs": [
        {
          "output_type": "stream",
          "name": "stdout",
          "text": [
            "['positive']\n"
          ]
        }
      ],
      "source": [
        "pred = knn_cls.predict(test_tfidf)\n",
        "\n",
        "print(label_2_cate(pred))"
      ]
    },
    {
      "cell_type": "code",
      "execution_count": 124,
      "metadata": {
        "id": "tQ1JBGB78JUD"
      },
      "outputs": [],
      "source": [
        "test_test = np.array([\"ăn cháo đá bát\"])\n",
        "test_vect = vectorizer.transform(test_test).toarray()"
      ]
    },
    {
      "cell_type": "code",
      "source": [
        "test_tf = np.log(test_vec + 1)\n",
        "test_tfidf = test_tf * X_idf"
      ],
      "metadata": {
        "id": "6ydkztIq12Ec"
      },
      "execution_count": 125,
      "outputs": []
    },
    {
      "cell_type": "code",
      "source": [
        "compute_norm(test_tfidf)"
      ],
      "metadata": {
        "id": "2tA_Wtxk14MS"
      },
      "execution_count": 126,
      "outputs": []
    },
    {
      "cell_type": "code",
      "source": [
        "pred = knn_cls.predict(test_tfidf)\n",
        "\n",
        "print(label_2_cate(pred))"
      ],
      "metadata": {
        "colab": {
          "base_uri": "https://localhost:8080/"
        },
        "id": "mh3qd22S14_p",
        "outputId": "ef7eec84-33f2-4e1f-91aa-6f21fc5604f0"
      },
      "execution_count": 127,
      "outputs": [
        {
          "output_type": "stream",
          "name": "stdout",
          "text": [
            "['positive']\n"
          ]
        }
      ]
    }
  ],
  "metadata": {
    "colab": {
      "provenance": [],
      "include_colab_link": true
    },
    "kernelspec": {
      "display_name": "Python 3 (ipykernel)",
      "language": "python",
      "name": "python3"
    },
    "language_info": {
      "codemirror_mode": {
        "name": "ipython",
        "version": 3
      },
      "file_extension": ".py",
      "mimetype": "text/x-python",
      "name": "python",
      "nbconvert_exporter": "python",
      "pygments_lexer": "ipython3",
      "version": "3.11.4"
    }
  },
  "nbformat": 4,
  "nbformat_minor": 0
}