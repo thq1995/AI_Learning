{
  "cells": [
    {
      "cell_type": "markdown",
      "metadata": {
        "id": "view-in-github",
        "colab_type": "text"
      },
      "source": [
        "<a href=\"https://colab.research.google.com/github/thq1995/AI_Learning/blob/main/KNN/5_BoW_KNN.ipynb\" target=\"_parent\"><img src=\"https://colab.research.google.com/assets/colab-badge.svg\" alt=\"Open In Colab\"/></a>"
      ]
    },
    {
      "cell_type": "code",
      "execution_count": 15,
      "id": "9157c752",
      "metadata": {
        "id": "9157c752"
      },
      "outputs": [],
      "source": [
        "import sklearn\n",
        "from sklearn.neighbors import KNeighborsClassifier\n",
        "from sklearn.pipeline import Pipeline\n",
        "from sklearn.feature_extraction.text import CountVectorizer\n",
        "from sklearn.feature_extraction.text import TfidfTransformer\n",
        "import numpy as np"
      ]
    },
    {
      "cell_type": "code",
      "execution_count": 35,
      "id": "de28ae11",
      "metadata": {
        "id": "de28ae11"
      },
      "outputs": [],
      "source": [
        "vectorizer = CountVectorizer()\n",
        "corpus = [\"góp gió gặt bão\",\n",
        "          \"có làm mới có ăn\",\n",
        "          \"đất lành chim đậu\",\n",
        "          \"ăn cháo đá bát\",\n",
        "          \"gậy ông đập lưng ông\",\n",
        "          \"qua cầu rút ván\"]\n",
        "X = vectorizer.fit_transform(corpus)"
      ]
    },
    {
      "cell_type": "code",
      "source": [
        "print(f\"X shape: {X.shape}\")\n",
        "print(f'X: {X.toarray()}')"
      ],
      "metadata": {
        "colab": {
          "base_uri": "https://localhost:8080/"
        },
        "id": "aqFqO-lZBgGr",
        "outputId": "af659974-5ad2-419c-e6df-1ed7a079192b"
      },
      "id": "aqFqO-lZBgGr",
      "execution_count": 36,
      "outputs": [
        {
          "output_type": "stream",
          "name": "stdout",
          "text": [
            "X shape: (6, 23)\n",
            "X: [[0 1 0 0 0 0 1 1 0 1 0 0 0 0 0 0 0 0 0 0 0 0 0]\n",
            " [0 0 0 0 2 0 0 0 0 0 1 0 0 1 0 0 0 0 1 0 0 0 0]\n",
            " [0 0 1 0 0 0 0 0 0 0 0 1 0 0 0 0 0 0 0 0 1 0 1]\n",
            " [1 0 0 1 0 0 0 0 0 0 0 0 0 0 0 0 0 0 1 1 0 0 0]\n",
            " [0 0 0 0 0 0 0 0 1 0 0 0 1 0 0 0 0 2 0 0 0 1 0]\n",
            " [0 0 0 0 0 1 0 0 0 0 0 0 0 0 1 1 1 0 0 0 0 0 0]]\n"
          ]
        }
      ]
    },
    {
      "cell_type": "code",
      "execution_count": 63,
      "id": "d61f6973",
      "metadata": {
        "colab": {
          "base_uri": "https://localhost:8080/"
        },
        "id": "d61f6973",
        "outputId": "8b42a7a9-4bf0-478d-dad6-36e1936c4273"
      },
      "outputs": [
        {
          "output_type": "execute_result",
          "data": {
            "text/plain": [
              "array([[0, 0, 0, 0, 2, 0, 0, 0, 0, 0, 1, 0, 0, 1, 0, 0, 0, 0, 1, 0, 0, 0,\n",
              "        0]])"
            ]
          },
          "metadata": {},
          "execution_count": 63
        }
      ],
      "source": [
        "x_test = vectorizer.transform(['có làm mới có ăn']).toarray()\n",
        "x_test"
      ]
    },
    {
      "cell_type": "code",
      "execution_count": 64,
      "id": "303bf141",
      "metadata": {
        "colab": {
          "base_uri": "https://localhost:8080/"
        },
        "id": "303bf141",
        "outputId": "d8dda80c-3b58-4373-cd6d-87c4d4dded60"
      },
      "outputs": [
        {
          "output_type": "execute_result",
          "data": {
            "text/plain": [
              "array([1, 1, 1, 0, 0, 0])"
            ]
          },
          "metadata": {},
          "execution_count": 64
        }
      ],
      "source": [
        "y_data = np.array([1, 1, 1, 0, 0, 0])\n",
        "y_data"
      ]
    },
    {
      "cell_type": "code",
      "execution_count": 65,
      "id": "69649079",
      "metadata": {
        "colab": {
          "base_uri": "https://localhost:8080/"
        },
        "id": "69649079",
        "outputId": "86e919da-ea5b-42f9-ff16-245630d33919"
      },
      "outputs": [
        {
          "output_type": "stream",
          "name": "stdout",
          "text": [
            "(array([[0.        , 3.        , 3.31662479, 3.31662479, 3.31662479,\n",
            "        3.74165739]]), array([[1, 3, 0, 2, 5, 4]]))\n"
          ]
        }
      ],
      "source": [
        "from sklearn.neighbors import KNeighborsClassifier\n",
        "\n",
        "classifier = KNeighborsClassifier(n_neighbors=6)\n",
        "classifier.fit(X.toarray(), y_data)\n",
        "\n",
        "y_pred = classifier.kneighbors(x_test)\n",
        "print(y_pred)\n",
        "\n",
        "\n",
        "\n"
      ]
    },
    {
      "cell_type": "code",
      "source": [
        "y_pred = classifier.predict(x_test)\n",
        "y_pred"
      ],
      "metadata": {
        "colab": {
          "base_uri": "https://localhost:8080/"
        },
        "id": "-I-e8khecb-R",
        "outputId": "ac099b6d-a270-499f-a60f-a4df968fd19b"
      },
      "id": "-I-e8khecb-R",
      "execution_count": 66,
      "outputs": [
        {
          "output_type": "execute_result",
          "data": {
            "text/plain": [
              "array([0])"
            ]
          },
          "metadata": {},
          "execution_count": 66
        }
      ]
    }
  ],
  "metadata": {
    "kernelspec": {
      "display_name": "Python 3 (ipykernel)",
      "language": "python",
      "name": "python3"
    },
    "language_info": {
      "codemirror_mode": {
        "name": "ipython",
        "version": 3
      },
      "file_extension": ".py",
      "mimetype": "text/x-python",
      "name": "python",
      "nbconvert_exporter": "python",
      "pygments_lexer": "ipython3",
      "version": "3.11.4"
    },
    "colab": {
      "provenance": [],
      "include_colab_link": true
    }
  },
  "nbformat": 4,
  "nbformat_minor": 5
}