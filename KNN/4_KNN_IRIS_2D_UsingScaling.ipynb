{
  "cells": [
    {
      "cell_type": "markdown",
      "metadata": {
        "id": "view-in-github",
        "colab_type": "text"
      },
      "source": [
        "<a href=\"https://colab.research.google.com/github/thq1995/AI_Learning/blob/main/KNN/4_KNN_IRIS_2D_UsingScaling.ipynb\" target=\"_parent\"><img src=\"https://colab.research.google.com/assets/colab-badge.svg\" alt=\"Open In Colab\"/></a>"
      ]
    },
    {
      "cell_type": "markdown",
      "id": "13489e8f-f29a-489c-b854-15e0cf000079",
      "metadata": {
        "id": "13489e8f-f29a-489c-b854-15e0cf000079"
      },
      "source": [
        "## in cm"
      ]
    },
    {
      "cell_type": "code",
      "execution_count": 1,
      "id": "b6a35825",
      "metadata": {
        "colab": {
          "base_uri": "https://localhost:8080/"
        },
        "id": "b6a35825",
        "outputId": "0049eb34-6142-4098-e2a3-f756f9c61feb"
      },
      "outputs": [
        {
          "output_type": "stream",
          "name": "stdout",
          "text": [
            "Downloading...\n",
            "From: https://drive.google.com/uc?id=1D-L1M4LkmzxvpiVl3GSj3SD3Ge8Za9TX\n",
            "To: /content/iris_2D.csv\n",
            "\r  0% 0.00/102 [00:00<?, ?B/s]\r100% 102/102 [00:00<00:00, 198kB/s]\n",
            "[[1.4 0.2]\n",
            " [1.3 0.4]\n",
            " [1.4 0.3]\n",
            " [4.  1. ]\n",
            " [4.7 1.4]\n",
            " [3.6 1.3]]\n",
            "[0. 0. 0. 1. 1. 1.]\n"
          ]
        }
      ],
      "source": [
        "import numpy as np\n",
        "import matplotlib.pyplot as plt\n",
        "from sklearn import neighbors, datasets\n",
        "import pandas as pd\n",
        "from sklearn.preprocessing import StandardScaler\n",
        "\n",
        "!gdown 1D-L1M4LkmzxvpiVl3GSj3SD3Ge8Za9TX\n",
        "\n",
        "data = pd.read_csv('iris_2D.csv')\n",
        "\n",
        "# get x\n",
        "x_data = data[['Petal_Length', 'Petal_Width']].to_numpy()\n",
        "x_data = x_data.reshape(6, 2)\n",
        "print(x_data)\n",
        "\n",
        "# get y\n",
        "y_data = data['Label'].to_numpy()\n",
        "print(y_data)"
      ]
    },
    {
      "cell_type": "code",
      "execution_count": 8,
      "id": "b0a83a6c-837f-4d7a-b3a6-5515f1ac5875",
      "metadata": {
        "colab": {
          "base_uri": "https://localhost:8080/"
        },
        "id": "b0a83a6c-837f-4d7a-b3a6-5515f1ac5875",
        "outputId": "522690ec-e38c-42ef-ae03-90f71c9cfc7f"
      },
      "outputs": [
        {
          "output_type": "stream",
          "name": "stdout",
          "text": [
            "[[-0.94942533 -1.16756479]\n",
            " [-1.02063223 -0.7554831 ]\n",
            " [-0.94942533 -0.96152395]\n",
            " [ 0.90195406  0.48076197]\n",
            " [ 1.40040236  1.30492536]\n",
            " [ 0.61712646  1.09888451]]\n"
          ]
        }
      ],
      "source": [
        "scaler = StandardScaler()\n",
        "scaler.fit(x_data)\n",
        "\n",
        "x_data = scaler.transform(x_data)\n",
        "print(x_data)"
      ]
    },
    {
      "cell_type": "code",
      "execution_count": 11,
      "id": "9b6cf5e3-dc25-42d7-9eaa-710b42ceb140",
      "metadata": {
        "colab": {
          "base_uri": "https://localhost:8080/"
        },
        "id": "9b6cf5e3-dc25-42d7-9eaa-710b42ceb140",
        "outputId": "c5c05585-e617-4c6a-d2ca-ac90ab12c653"
      },
      "outputs": [
        {
          "output_type": "stream",
          "name": "stdout",
          "text": [
            "[[2.6 0.7]]\n",
            "(array([[1.34349142, 1.71214057, 2.02259643, 3.90223126, 3.91906647,\n",
            "        4.01076282]]), array([[4, 3, 5, 1, 2, 0]]))\n",
            "[0.]\n"
          ]
        }
      ],
      "source": [
        "# get model\n",
        "from sklearn.neighbors import KNeighborsClassifier\n",
        "\n",
        "classifier = KNeighborsClassifier(n_neighbors=6)\n",
        "classifier.fit(x_data, y_data)\n",
        "\n",
        "# unknown input\n",
        "x_test = [[2.6, 0.7]]\n",
        "x_test = scaler.transform(x_test)\n",
        "print(x_test)\n",
        "\n",
        "y_pred = classifier.kneighbors(x_test)\n",
        "print(y_pred)\n",
        "\n",
        "y_predict = classifier.predict(x_test)\n",
        "print(y_predict)"
      ]
    },
    {
      "cell_type": "markdown",
      "id": "3c886fcf-cb7d-43b1-a79d-7ba1248ce5e8",
      "metadata": {
        "id": "3c886fcf-cb7d-43b1-a79d-7ba1248ce5e8"
      },
      "source": [
        "## in mm"
      ]
    },
    {
      "cell_type": "code",
      "execution_count": 12,
      "id": "1473b8e5-2bc0-4069-bcbe-ce566e69afa2",
      "metadata": {
        "colab": {
          "base_uri": "https://localhost:8080/"
        },
        "id": "1473b8e5-2bc0-4069-bcbe-ce566e69afa2",
        "outputId": "51ec3c3d-0a86-4692-a8f4-69f270ee33a9"
      },
      "outputs": [
        {
          "output_type": "stream",
          "name": "stdout",
          "text": [
            "Downloading...\n",
            "From: https://drive.google.com/uc?id=1bKSvPHc9bcLWcMxQieLBwzl9740zRgFw\n",
            "To: /content/iris_2D_mm.csv\n",
            "\r  0% 0.00/105 [00:00<?, ?B/s]\r100% 105/105 [00:00<00:00, 410kB/s]\n",
            "[[ 1.4  2. ]\n",
            " [ 1.3  4. ]\n",
            " [ 1.4  3. ]\n",
            " [ 4.  10. ]\n",
            " [ 4.7 14. ]\n",
            " [ 3.6 13. ]]\n",
            "[0. 0. 0. 1. 1. 1.]\n"
          ]
        }
      ],
      "source": [
        "import numpy as np\n",
        "import matplotlib.pyplot as plt\n",
        "from sklearn import neighbors, datasets\n",
        "import pandas as pd\n",
        "from sklearn.preprocessing import StandardScaler\n",
        "\n",
        "!gdown 1bKSvPHc9bcLWcMxQieLBwzl9740zRgFw\n",
        "\n",
        "data = pd.read_csv('iris_2D_mm.csv')\n",
        "\n",
        "# get x\n",
        "x_data = data[['Petal_Length', 'Petal_Width']].to_numpy()\n",
        "x_data = x_data.reshape(6, 2)\n",
        "print(x_data)\n",
        "\n",
        "# get y\n",
        "y_data = data['Label'].to_numpy()\n",
        "print(y_data)"
      ]
    },
    {
      "cell_type": "code",
      "execution_count": 13,
      "id": "fa27c5c7-a471-4728-a876-67b7b1c28f90",
      "metadata": {
        "colab": {
          "base_uri": "https://localhost:8080/"
        },
        "id": "fa27c5c7-a471-4728-a876-67b7b1c28f90",
        "outputId": "819876b4-6fd9-465b-8aac-81c59678bb79"
      },
      "outputs": [
        {
          "output_type": "stream",
          "name": "stdout",
          "text": [
            "[[-0.94942533 -1.16756479]\n",
            " [-1.02063223 -0.7554831 ]\n",
            " [-0.94942533 -0.96152395]\n",
            " [ 0.90195406  0.48076197]\n",
            " [ 1.40040236  1.30492536]\n",
            " [ 0.61712646  1.09888451]]\n"
          ]
        }
      ],
      "source": [
        "scaler = StandardScaler()\n",
        "scaler.fit(x_data)\n",
        "\n",
        "x_data = scaler.transform(x_data)\n",
        "print(x_data)"
      ]
    },
    {
      "cell_type": "markdown",
      "source": [],
      "metadata": {
        "id": "PErY5u4T6pdp"
      },
      "id": "PErY5u4T6pdp"
    },
    {
      "cell_type": "code",
      "execution_count": 15,
      "id": "1eb743fd",
      "metadata": {
        "colab": {
          "base_uri": "https://localhost:8080/"
        },
        "id": "1eb743fd",
        "outputId": "1f2ee09f-a1ae-45b3-e8ed-ad140d2801e9"
      },
      "outputs": [
        {
          "output_type": "stream",
          "name": "stdout",
          "text": [
            "[[-0.09494253 -0.13736056]]\n",
            "(array([[1.11309338, 1.17297838, 1.18717569, 1.33845493, 1.42665488,\n",
            "        2.07755746]]), array([[1, 3, 2, 0, 5, 4]]))\n"
          ]
        }
      ],
      "source": [
        "# get model\n",
        "from sklearn.neighbors import KNeighborsClassifier\n",
        "\n",
        "classifier = KNeighborsClassifier(n_neighbors=6)\n",
        "classifier.fit(x_data, y_data)\n",
        "\n",
        "# unknown input\n",
        "x_test = [[2.6, 7.0]]\n",
        "x_test = scaler.transform(x_test)\n",
        "print(x_test)\n",
        "\n",
        "y_pred = classifier.kneighbors(x_test)\n",
        "print(y_pred)"
      ]
    }
  ],
  "metadata": {
    "kernelspec": {
      "display_name": "Python 3 (ipykernel)",
      "language": "python",
      "name": "python3"
    },
    "language_info": {
      "codemirror_mode": {
        "name": "ipython",
        "version": 3
      },
      "file_extension": ".py",
      "mimetype": "text/x-python",
      "name": "python",
      "nbconvert_exporter": "python",
      "pygments_lexer": "ipython3",
      "version": "3.11.4"
    },
    "colab": {
      "provenance": [],
      "include_colab_link": true
    }
  },
  "nbformat": 4,
  "nbformat_minor": 5
}